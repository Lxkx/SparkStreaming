{
 "cells": [
  {
   "cell_type": "code",
   "execution_count": 11,
   "id": "b969e030",
   "metadata": {},
   "outputs": [],
   "source": [
    "import findspark\n",
    "import pdb\n",
    "findspark.init()\n",
    "import pyspark\n",
    "from functools import reduce\n",
    "from pyspark.sql import SparkSession, DataFrame, Window\n",
    "from pyspark.sql.functions import desc, countDistinct, split, col, lit, avg, asc, sum, row_number, round\n",
    "spark = SparkSession.builder.appName(\"Homework\").getOrCreate()"
   ]
  },
  {
   "cell_type": "code",
   "execution_count": 2,
   "id": "8bbf23d5",
   "metadata": {},
   "outputs": [],
   "source": [
    "from os import listdir\n",
    "from os.path import isfile, join\n",
    "mypath = \"input/\"\n",
    "onlyfiles = [f for f in listdir(mypath) if isfile(join(mypath, f))]"
   ]
  },
  {
   "cell_type": "code",
   "execution_count": 3,
   "id": "d3b7a27f",
   "metadata": {},
   "outputs": [],
   "source": [
    "dfL = [] #list of dataframes\n",
    "for file in onlyfiles:\n",
    "    df = spark.read.text(mypath+file)\n",
    "    \n",
    "    # splitting the string column into separate columns and cast the type\n",
    "    split_col = split(df['value'], ' ')\n",
    "    df = df.select(split_col.getItem(0).alias('month'),split_col.getItem(1).alias('revenue').cast(\"integer\"))\n",
    "    df = df.withColumn(\"store\",lit(file[:-4]))\n",
    "    \n",
    "    if \"_\" in file:\n",
    "        df = df.withColumn(\"city\",lit(file[:-6]))\n",
    "    else:\n",
    "        df = df.withColumn(\"city\",lit(file[:-4]))\n",
    "    \n",
    "    dfL.append(df)\n",
    "    \n",
    "dfAll = reduce(DataFrame.unionAll, dfL)"
   ]
  },
  {
   "cell_type": "code",
   "execution_count": 5,
   "id": "1fb93c13",
   "metadata": {},
   "outputs": [
    {
     "name": "stderr",
     "output_type": "stream",
     "text": [
      "                                                                                \r"
     ]
    },
    {
     "name": "stdout",
     "output_type": "stream",
     "text": [
      "+-----+-------+------------+----------+\n",
      "|month|revenue|       store|      city|\n",
      "+-----+-------+------------+----------+\n",
      "|  JAN|     21|      troyes|    troyes|\n",
      "|  FEB|     21|      troyes|    troyes|\n",
      "|  MAR|     11|      troyes|    troyes|\n",
      "|  APR|     17|      troyes|    troyes|\n",
      "|  MAY|     15|      troyes|    troyes|\n",
      "|  JUN|     25|      troyes|    troyes|\n",
      "|  JUL|     11|      troyes|    troyes|\n",
      "|  AUG|     22|      troyes|    troyes|\n",
      "|  SEP|     21|      troyes|    troyes|\n",
      "|  OCT|     28|      troyes|    troyes|\n",
      "|  NOV|     11|      troyes|    troyes|\n",
      "|  DEC|     11|      troyes|    troyes|\n",
      "|  JAN|     11|marseilles_2|marseilles|\n",
      "|  FEB|     11|marseilles_2|marseilles|\n",
      "|  MAR|     11|marseilles_2|marseilles|\n",
      "|  APR|     17|marseilles_2|marseilles|\n",
      "|  MAY|     12|marseilles_2|marseilles|\n",
      "|  JUN|     25|marseilles_2|marseilles|\n",
      "|  JUL|     21|marseilles_2|marseilles|\n",
      "|  AUG|     22|marseilles_2|marseilles|\n",
      "+-----+-------+------------+----------+\n",
      "only showing top 20 rows\n",
      "\n"
     ]
    }
   ],
   "source": [
    "dfAll.show()"
   ]
  },
  {
   "cell_type": "markdown",
   "id": "ce6ca8e5",
   "metadata": {},
   "source": [
    "- Average monthly income of the shop in France"
   ]
  },
  {
   "cell_type": "code",
   "execution_count": 6,
   "id": "a448562e",
   "metadata": {},
   "outputs": [
    {
     "name": "stderr",
     "output_type": "stream",
     "text": [
      "[Stage 2:===================================>                      (8 + 5) / 13]\r"
     ]
    },
    {
     "name": "stdout",
     "output_type": "stream",
     "text": [
      "+-----+---------------+\n",
      "|month|average_revenue|\n",
      "+-----+---------------+\n",
      "|  DEC|           29.0|\n",
      "|  JUN|         27.846|\n",
      "|  OCT|         26.538|\n",
      "|  SEP|         25.538|\n",
      "|  NOV|         24.538|\n",
      "|  AUG|         23.077|\n",
      "|  MAY|         22.462|\n",
      "|  JUL|         21.692|\n",
      "|  JAN|         20.769|\n",
      "|  APR|         20.231|\n",
      "|  FEB|         19.154|\n",
      "|  MAR|         17.538|\n",
      "+-----+---------------+\n",
      "\n"
     ]
    },
    {
     "name": "stderr",
     "output_type": "stream",
     "text": [
      "\r",
      "                                                                                \r"
     ]
    }
   ],
   "source": [
    "dfAll.groupBy('month').agg(round(avg(\"revenue\"),3).alias(\"average_revenue\")).orderBy(desc(\"average_revenue\")).show()"
   ]
  },
  {
   "cell_type": "markdown",
   "id": "d7c3fcc6",
   "metadata": {},
   "source": [
    "- Average monthly income of the shop in each city"
   ]
  },
  {
   "cell_type": "code",
   "execution_count": 7,
   "id": "d6ad271d",
   "metadata": {},
   "outputs": [
    {
     "name": "stdout",
     "output_type": "stream",
     "text": [
      "+----------+-----+---------------+\n",
      "|      city|month|average_revenue|\n",
      "+----------+-----+---------------+\n",
      "|     paris|  OCT|         56.667|\n",
      "|     paris|  JUN|           55.0|\n",
      "|     paris|  DEC|         52.667|\n",
      "|     paris|  MAY|           50.0|\n",
      "|     paris|  NOV|         48.667|\n",
      "|     paris|  SEP|           48.0|\n",
      "|     paris|  AUG|         41.667|\n",
      "|     paris|  APR|         38.667|\n",
      "|     paris|  JAN|         38.333|\n",
      "|     paris|  JUL|         33.667|\n",
      "|     paris|  FEB|           33.0|\n",
      "|      nice|  DEC|           29.0|\n",
      "|marseilles|  OCT|           28.0|\n",
      "|    troyes|  OCT|           28.0|\n",
      "|    nantes|  JUN|           28.0|\n",
      "|     paris|  MAR|         26.333|\n",
      "|    orlean|  DEC|           26.0|\n",
      "|marseilles|  DEC|           26.0|\n",
      "|    troyes|  JUN|           25.0|\n",
      "|marseilles|  JUN|           25.0|\n",
      "|    orlean|  AUG|           25.0|\n",
      "|      lyon|  AUG|           25.0|\n",
      "|marseilles|  NOV|           24.0|\n",
      "|    orlean|  NOV|           24.0|\n",
      "|    nantes|  DEC|           24.0|\n",
      "|    rennes|  SEP|           23.0|\n",
      "|  toulouse|  SEP|           23.0|\n",
      "|marseilles|  SEP|           23.0|\n",
      "|      nice|  SEP|           23.0|\n",
      "|marseilles|  AUG|           22.0|\n",
      "+----------+-----+---------------+\n",
      "only showing top 30 rows\n",
      "\n"
     ]
    }
   ],
   "source": [
    "dfAll.groupBy('city','month').agg(round(avg(\"revenue\"),3).alias(\"average_revenue\")).orderBy(desc(\"average_revenue\")).show(30)"
   ]
  },
  {
   "cell_type": "markdown",
   "id": "d5986962",
   "metadata": {},
   "source": [
    "- Total revenue per city per year"
   ]
  },
  {
   "cell_type": "code",
   "execution_count": 8,
   "id": "07298922",
   "metadata": {},
   "outputs": [
    {
     "name": "stdout",
     "output_type": "stream",
     "text": [
      "+----------+-------------+\n",
      "|      city|total_revenue|\n",
      "+----------+-------------+\n",
      "|     anger|          166|\n",
      "|      lyon|          193|\n",
      "|marseilles|          515|\n",
      "|    nantes|          207|\n",
      "|      nice|          203|\n",
      "|    orlean|          196|\n",
      "|     paris|         1568|\n",
      "|    rennes|          180|\n",
      "|  toulouse|          177|\n",
      "|    troyes|          214|\n",
      "+----------+-------------+\n",
      "\n"
     ]
    }
   ],
   "source": [
    "dfAll.groupBy('city').agg(sum(\"revenue\").alias(\"total_revenue\")).orderBy(asc(\"city\")).show()"
   ]
  },
  {
   "cell_type": "markdown",
   "id": "4d14fd4d",
   "metadata": {},
   "source": [
    "- Total revenue per store per year"
   ]
  },
  {
   "cell_type": "code",
   "execution_count": 9,
   "id": "50b1155c",
   "metadata": {},
   "outputs": [
    {
     "name": "stdout",
     "output_type": "stream",
     "text": [
      "+------------+-------------+\n",
      "|       store|total_revenue|\n",
      "+------------+-------------+\n",
      "|       anger|          166|\n",
      "|        lyon|          193|\n",
      "|marseilles_1|          284|\n",
      "|marseilles_2|          231|\n",
      "|      nantes|          207|\n",
      "|        nice|          203|\n",
      "|      orlean|          196|\n",
      "|     paris_1|          596|\n",
      "|     paris_2|          642|\n",
      "|     paris_3|          330|\n",
      "|      rennes|          180|\n",
      "|    toulouse|          177|\n",
      "|      troyes|          214|\n",
      "+------------+-------------+\n",
      "\n"
     ]
    }
   ],
   "source": [
    "dfAll.groupBy('store').agg(sum(\"revenue\").alias(\"total_revenue\")).orderBy(asc(\"store\")).show()"
   ]
  },
  {
   "cell_type": "markdown",
   "id": "c383b7be",
   "metadata": {},
   "source": [
    "- The store that achieves the best performance in each month"
   ]
  },
  {
   "cell_type": "code",
   "execution_count": 10,
   "id": "d4174f35",
   "metadata": {},
   "outputs": [
    {
     "name": "stdout",
     "output_type": "stream",
     "text": [
      "+-----+-------+-------+-----+\n",
      "|month|revenue|  store| city|\n",
      "+-----+-------+-------+-----+\n",
      "|  JUN|     85|paris_2|paris|\n",
      "|  MAY|     72|paris_2|paris|\n",
      "|  DEC|     71|paris_1|paris|\n",
      "|  OCT|     68|paris_1|paris|\n",
      "|  NOV|     64|paris_2|paris|\n",
      "|  SEP|     63|paris_2|paris|\n",
      "|  JUL|     61|paris_1|paris|\n",
      "|  APR|     57|paris_1|paris|\n",
      "|  JAN|     51|paris_1|paris|\n",
      "|  AUG|     45|paris_2|paris|\n",
      "|  MAR|     44|paris_2|paris|\n",
      "|  FEB|     42|paris_2|paris|\n",
      "+-----+-------+-------+-----+\n",
      "\n"
     ]
    }
   ],
   "source": [
    "w = Window.partitionBy(\"month\").orderBy(col(\"revenue\").desc())\n",
    "dfAll = dfAll.withColumn(\"row_number\", row_number().over(w))\n",
    "dfAll = dfAll.filter(col(\"row_number\") == 1)\n",
    "dfAll.drop(\"row_number\").orderBy(desc(\"revenue\")).show()"
   ]
  }
 ],
 "metadata": {
  "kernelspec": {
   "display_name": ".py3813spark",
   "language": "python",
   "name": ".py3813spark"
  },
  "language_info": {
   "codemirror_mode": {
    "name": "ipython",
    "version": 3
   },
   "file_extension": ".py",
   "mimetype": "text/x-python",
   "name": "python",
   "nbconvert_exporter": "python",
   "pygments_lexer": "ipython3",
   "version": "3.8.13"
  }
 },
 "nbformat": 4,
 "nbformat_minor": 5
}
